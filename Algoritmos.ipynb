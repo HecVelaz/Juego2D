{
  "nbformat": 4,
  "nbformat_minor": 0,
  "metadata": {
    "colab": {
      "provenance": [],
      "authorship_tag": "ABX9TyNyldLJCZ//b4aqeEDq1Emb",
      "include_colab_link": true
    },
    "kernelspec": {
      "name": "python3",
      "display_name": "Python 3"
    },
    "language_info": {
      "name": "python"
    }
  },
  "cells": [
    {
      "cell_type": "markdown",
      "metadata": {
        "id": "view-in-github",
        "colab_type": "text"
      },
      "source": [
        "<a href=\"https://colab.research.google.com/github/HecVelaz/Juego2D/blob/main/Algoritmos.ipynb\" target=\"_parent\"><img src=\"https://colab.research.google.com/assets/colab-badge.svg\" alt=\"Open In Colab\"/></a>"
      ]
    },
    {
      "cell_type": "markdown",
      "source": [
        "**Ejericio de pila y cola**"
      ],
      "metadata": {
        "id": "AbNPRyxE-hfM"
      }
    },
    {
      "cell_type": "code",
      "source": [
        "class Fila:\n",
        "    #Constructor\n",
        "    def __init__(self):\n",
        "        self.elementos = []\n",
        "\n",
        "    #Insertar un elemento\n",
        "    def insertarcola(self,dato):\n",
        "        self.elementos.append(dato)\n",
        "\n",
        "    #Está vacía?\n",
        "    def esta_Vaciacola(self):\n",
        "        return len(self.elementos)==0\n",
        "\n",
        "    #Sacar un elemento\n",
        "    def quitarcola(self):\n",
        "        if self.esta_Vaciacola():\n",
        "            print(\"La lista esta vacia!! Retorna None...\")\n",
        "            return None\n",
        "        dato = self.elementos[0]\n",
        "        del self.elementos[0] #se desplaza el resto a la izquierda\n",
        "        return dato\n",
        "\n",
        "    #Limpiar la fila\n",
        "    def limpiarcola(self):\n",
        "        del self.elementos[:]\n",
        "\n",
        "    #Frente de la fila\n",
        "    def frentecola(self):\n",
        "        if self.esta_Vaciacola():\n",
        "            print(\"La lista esta vacia!! Retorna None...\")\n",
        "            return None\n",
        "        return self.elementos[0]\n",
        "\n",
        "    #Tamaño de la fila\n",
        "    def tamanhocola(self):\n",
        "        return len(self.elementos)\n",
        "\n",
        "    #Mostrar elementos de la pila\n",
        "    def mostrarElementoscola(self):\n",
        "        print(\"Los elementos de la fila son:\")\n",
        "        print(self.elementos)\n",
        "    def cantidad_pares(self):\n",
        "        count = 0\n",
        "        for num in self.elementos:\n",
        "            if num % 2 == 0:\n",
        "                count += 1\n",
        "        return count\n",
        "    # Eliminar un elemento en la parte delantera de la cola\n",
        "    def eliminar(self):\n",
        "        if self.esta_Vaciacola():\n",
        "            print(\"La cola está vacía. No se puede eliminar ningún elemento.\")\n",
        "            return None\n",
        "        dato = self.elementos.pop(0)\n",
        "        return dato\n",
        "    def es_primo(self, num):\n",
        "        if num <= 1:\n",
        "            return False\n",
        "        for i in range(2, int(num**0.5) + 1):\n",
        "            if num % i == 0:\n",
        "                return False\n",
        "        return True\n",
        "    def cantidad_primos(self):\n",
        "        count = 0\n",
        "        for num in self.elementos:\n",
        "            if self.es_primo(num):\n",
        "                count += 1\n",
        "        return count"
      ],
      "metadata": {
        "id": "1UOIbMx9x4xq"
      },
      "execution_count": null,
      "outputs": []
    },
    {
      "cell_type": "code",
      "source": [
        "class Pila:\n",
        "    #Constructor\n",
        "    def __init__(self):\n",
        "        self.elementos = []\n",
        "\n",
        "    #Insertar un elemento\n",
        "    def insertar(self,dato):\n",
        "        self.elementos.append(dato)\n",
        "\n",
        "    #Está vacía?\n",
        "    def esta_Vacia(self):\n",
        "        return len(self.elementos)==0\n",
        "\n",
        "    #Sacar un elemento\n",
        "    def quitar(self):\n",
        "        if self.esta_Vacia():\n",
        "            print(\"La lista esta vacia!! Retorna None...\")\n",
        "            return None\n",
        "        return self.elementos.pop()\n",
        "\n",
        "    #Limpiar la pila\n",
        "    def limpiar(self):\n",
        "        del self.elementos[:]\n",
        "\n",
        "    #Cima de la pila\n",
        "    def cima(self):\n",
        "        if self.esta_Vacia():\n",
        "            print(\"La lista esta vacia!! Retorna None...\")\n",
        "            return None\n",
        "        return self.elementos[-1]\n",
        "\n",
        "    #Tamaño de la pila\n",
        "    def tamanho(self):\n",
        "        return len(self.elementos)\n",
        "\n",
        "    #Mostrar elementos de la pila\n",
        "    def mostrarElementos(self):\n",
        "        print(\"Los elementos de la pila son:\")\n",
        "        print(self.elementos)"
      ],
      "metadata": {
        "id": "IT4cTbFB1VuQ"
      },
      "execution_count": null,
      "outputs": []
    },
    {
      "cell_type": "markdown",
      "source": [
        "Escribe un programa que implemente una cola simple de números enteros. El programa debe permitir al usuario realizar las siguientes operaciones:  Encolar un elemento en la cola.  Desencolar un elemento de la cola.  Mostrar el contenido de la cola."
      ],
      "metadata": {
        "id": "EVv-22W32XYt"
      }
    },
    {
      "cell_type": "code",
      "source": [
        "def Opciones():\n",
        "    print(\"\\n:\")\n",
        "    print(\"1. encolar(insertar) un elemento\")\n",
        "    print(\"2. Desencolar un elemento\")\n",
        "    print(\"3. Mostrar contenido de la cola\")\n",
        "    print(\"4. Salir\")\n",
        "    opcion = input(\"Seleccione una opción: \")\n",
        "    return opcion\n",
        "\n",
        "cola = Fila()\n",
        "while True:\n",
        "    opcion = Opciones()\n",
        "    if opcion == \"1\":\n",
        "        dato = int(input(\"Ingrese el número: \"))\n",
        "        cola.insertarcola(dato)\n",
        "        print(\"Elemento encolado correctamente.\")\n",
        "    elif opcion == \"2\":\n",
        "        elemento_desencolado = cola.quitarcola()\n",
        "        if elemento_desencolado is not None:\n",
        "            print(\"Elemento desencolado:\", elemento_desencolado)\n",
        "    elif opcion == \"3\":\n",
        "        cola.mostrarElementoscola()\n",
        "    elif opcion == \"4\":\n",
        "        print(\"Saliendo del programa...\")\n",
        "        break\n",
        "    else:\n",
        "        print(\"Opción inválida. Por favor, seleccione una opción válida.\")\n"
      ],
      "metadata": {
        "id": "uXA16Tl32Yzn"
      },
      "execution_count": null,
      "outputs": []
    },
    {
      "cell_type": "markdown",
      "source": [
        "Diseña un programa que utilice una cola para almacenar números pares. El programa\n",
        "debe permitir al usuario realizar las siguientes operaciones:\n",
        " Agregar un número par a la cola.\n",
        " Eliminar el número par en la parte delantera de la cola.\n",
        " Mostrar la cantidad total de números pares en la cola."
      ],
      "metadata": {
        "id": "7YWX0sWP9ys9"
      }
    },
    {
      "cell_type": "code",
      "source": [
        "def MENU():\n",
        "  print(\"\\n:\")\n",
        "  print(\"1. Agregar un número par a la cola\")\n",
        "  print(\"2. Eliminar el número par en la parte delantera de la cola\")\n",
        "  print(\"3. Mostrar la cantidad total de números pares en la cola\")\n",
        "  print(\"4. Mostrar elementos en la cola\")\n",
        "  print(\"5. Salir\")\n",
        "  opcion = input(\"Seleccione una opción: \")\n",
        "  return opcion\n",
        "\n",
        "cola=Fila()\n",
        "while True:\n",
        "    option = MENU()\n",
        "    if option ==\"1\":\n",
        "      num = int(input(\"Ingrese un número par para agregar a la cola: \"))\n",
        "      if num % 2 == 0:\n",
        "            cola.insertarcola(num)\n",
        "            print(\"Número par agregado correctamente a la cola.\")\n",
        "      else:\n",
        "            print(\"El número ingresado no es par. Por favor, ingrese un número par.\")\n",
        "    elif option == \"2\":\n",
        "        elemento_eliminado = cola.eliminar()\n",
        "        if elemento_eliminado is not None:\n",
        "            print(\"Número par eliminado de la cola:\", elemento_eliminado)\n",
        "    elif option == \"3\":\n",
        "        count = cola.cantidad_pares()\n",
        "        print(\"Cantidad total de números pares en la cola:\", count)\n",
        "    elif option ==\"4\":\n",
        "        cola.mostrarElementoscola()\n",
        "    elif option == \"5\":\n",
        "        print(\"Saliendo del programa...\")\n",
        "        break\n",
        "    else:\n",
        "        print(\"Opción inválida. Por favor, seleccione una opción válida.\")\n",
        "\n"
      ],
      "metadata": {
        "id": "HhtjSGTs90LT"
      },
      "execution_count": null,
      "outputs": []
    },
    {
      "cell_type": "markdown",
      "source": [
        "3. Diseña un programa que utilice una cola para almacenar números primos. El programa\n",
        "debe permitir al usuario realizar las siguientes operaciones:\n",
        " Agregar un número primo a la cola.\n",
        " Eliminar el número primo en la parte delantera de la cola.\n",
        " Mostrar la cantidad total de números primos en la cola.\n",
        "El programa debe verificar que los números ingresados sean primos y, en caso contrario,\n",
        "rechazarlos. Puedes utilizar una función para verificar si un número es primo."
      ],
      "metadata": {
        "id": "euMC9aeDDx1W"
      }
    },
    {
      "cell_type": "code",
      "source": [
        "def MENU():\n",
        "  print(\"\\n:\")\n",
        "  print(\"1. Agregar un número primo a la cola\")\n",
        "  print(\"2. Eliminar el número primo en la parte delantera de la cola\")\n",
        "  print(\"3. Mostrar la cantidad total de números primos en la cola\")\n",
        "  print(\"4. Mostrar elementos en la cola\")\n",
        "  print(\"5. Salir\")\n",
        "  opcion = input(\"Seleccione una opción: \")\n",
        "  return opcion\n",
        "\n",
        "def primo(numero):\n",
        "    if numero <= 1: #si el numero es menor a uno no es primo\n",
        "        return False\n",
        "    for i in range(2, int(numero**0.5) + 1):\n",
        "        if numero % i == 0:\n",
        "            return False\n",
        "    return True\n",
        "\n",
        "cola=Fila()\n",
        "while True:\n",
        "    option = MENU()\n",
        "    if option == \"1\":\n",
        "      num= int (input(\"Agregar el numero primo a la cola:\"))\n",
        "      if primo(num):\n",
        "        cola. insertarcola(num)\n",
        "        print(\"Nro primo agregado correctamente\")\n",
        "      else:\n",
        "        print(\"El nro no es primo\")\n",
        "    elif option ==\"2\":\n",
        "        elemento_eliminado = cola.eliminar()\n",
        "        if elemento_eliminado is not None:\n",
        "            print(\"Número primo eliminado de la cola:\", elemento_eliminado)\n",
        "    elif option ==\"3\":\n",
        "      primos= cola.cantidad_primos()\n",
        "      print(\"La cantidad de numero primos es: \",primos )\n",
        "    elif option ==\"4\":\n",
        "      cola.mostrarElementoscola()\n",
        "    elif option == \"5\":\n",
        "        print(\"Saliendo del programa...\")\n",
        "        break\n",
        "    else:\n",
        "        print(\"Opción inválida. Por favor, seleccione una opción válida.\")\n",
        "\n",
        "\n"
      ],
      "metadata": {
        "id": "NS3dfEP8D5As"
      },
      "execution_count": null,
      "outputs": []
    }
  ]
}